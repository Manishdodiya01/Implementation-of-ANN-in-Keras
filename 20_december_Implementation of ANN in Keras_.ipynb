{
 "cells": [
  {
   "cell_type": "markdown",
   "id": "b0a0ffbc-34ef-4f8b-b56f-c92c23a36407",
   "metadata": {
    "jp-MarkdownHeadingCollapsed": true,
    "tags": []
   },
   "source": [
    "# Q1. Install and load the latest versions of TensorFlow and Keras. Print their versions."
   ]
  },
  {
   "cell_type": "code",
   "execution_count": 1,
   "id": "0b1ddcba-0bc6-4e39-9718-57463d4b8987",
   "metadata": {
    "tags": []
   },
   "outputs": [
    {
     "data": {
      "text/plain": [
       "'2.14.0'"
      ]
     },
     "execution_count": 1,
     "metadata": {},
     "output_type": "execute_result"
    }
   ],
   "source": [
    "import tensorflow as tf\n",
    "tf.__version__"
   ]
  },
  {
   "cell_type": "markdown",
   "id": "b3f5eb80-3f57-49bc-ae3a-9d8d964315b2",
   "metadata": {
    "jp-MarkdownHeadingCollapsed": true,
    "tags": []
   },
   "source": [
    "# Q2. Load the Wine Quality dataset and explore its dimensions."
   ]
  },
  {
   "cell_type": "code",
   "execution_count": 2,
   "id": "a832d4a2-d192-4a80-8257-613db6f837bb",
   "metadata": {
    "tags": []
   },
   "outputs": [
    {
     "data": {
      "text/html": [
       "<div>\n",
       "<style scoped>\n",
       "    .dataframe tbody tr th:only-of-type {\n",
       "        vertical-align: middle;\n",
       "    }\n",
       "\n",
       "    .dataframe tbody tr th {\n",
       "        vertical-align: top;\n",
       "    }\n",
       "\n",
       "    .dataframe thead th {\n",
       "        text-align: right;\n",
       "    }\n",
       "</style>\n",
       "<table border=\"1\" class=\"dataframe\">\n",
       "  <thead>\n",
       "    <tr style=\"text-align: right;\">\n",
       "      <th></th>\n",
       "      <th>fixed acidity</th>\n",
       "      <th>volatile acidity</th>\n",
       "      <th>citric acid</th>\n",
       "      <th>residual sugar</th>\n",
       "      <th>chlorides</th>\n",
       "      <th>free sulfur dioxide</th>\n",
       "      <th>total sulfur dioxide</th>\n",
       "      <th>density</th>\n",
       "      <th>pH</th>\n",
       "      <th>sulphates</th>\n",
       "      <th>alcohol</th>\n",
       "      <th>quality</th>\n",
       "    </tr>\n",
       "  </thead>\n",
       "  <tbody>\n",
       "    <tr>\n",
       "      <th>0</th>\n",
       "      <td>7.4</td>\n",
       "      <td>0.70</td>\n",
       "      <td>0.00</td>\n",
       "      <td>1.9</td>\n",
       "      <td>0.076</td>\n",
       "      <td>11.0</td>\n",
       "      <td>34.0</td>\n",
       "      <td>0.9978</td>\n",
       "      <td>3.51</td>\n",
       "      <td>0.56</td>\n",
       "      <td>9.4</td>\n",
       "      <td>bad</td>\n",
       "    </tr>\n",
       "    <tr>\n",
       "      <th>1</th>\n",
       "      <td>7.8</td>\n",
       "      <td>0.88</td>\n",
       "      <td>0.00</td>\n",
       "      <td>2.6</td>\n",
       "      <td>0.098</td>\n",
       "      <td>25.0</td>\n",
       "      <td>67.0</td>\n",
       "      <td>0.9968</td>\n",
       "      <td>3.20</td>\n",
       "      <td>0.68</td>\n",
       "      <td>9.8</td>\n",
       "      <td>bad</td>\n",
       "    </tr>\n",
       "    <tr>\n",
       "      <th>2</th>\n",
       "      <td>7.8</td>\n",
       "      <td>0.76</td>\n",
       "      <td>0.04</td>\n",
       "      <td>2.3</td>\n",
       "      <td>0.092</td>\n",
       "      <td>15.0</td>\n",
       "      <td>54.0</td>\n",
       "      <td>0.9970</td>\n",
       "      <td>3.26</td>\n",
       "      <td>0.65</td>\n",
       "      <td>9.8</td>\n",
       "      <td>bad</td>\n",
       "    </tr>\n",
       "    <tr>\n",
       "      <th>3</th>\n",
       "      <td>11.2</td>\n",
       "      <td>0.28</td>\n",
       "      <td>0.56</td>\n",
       "      <td>1.9</td>\n",
       "      <td>0.075</td>\n",
       "      <td>17.0</td>\n",
       "      <td>60.0</td>\n",
       "      <td>0.9980</td>\n",
       "      <td>3.16</td>\n",
       "      <td>0.58</td>\n",
       "      <td>9.8</td>\n",
       "      <td>good</td>\n",
       "    </tr>\n",
       "    <tr>\n",
       "      <th>4</th>\n",
       "      <td>7.4</td>\n",
       "      <td>0.70</td>\n",
       "      <td>0.00</td>\n",
       "      <td>1.9</td>\n",
       "      <td>0.076</td>\n",
       "      <td>11.0</td>\n",
       "      <td>34.0</td>\n",
       "      <td>0.9978</td>\n",
       "      <td>3.51</td>\n",
       "      <td>0.56</td>\n",
       "      <td>9.4</td>\n",
       "      <td>bad</td>\n",
       "    </tr>\n",
       "  </tbody>\n",
       "</table>\n",
       "</div>"
      ],
      "text/plain": [
       "   fixed acidity  volatile acidity  citric acid  residual sugar  chlorides  \\\n",
       "0            7.4              0.70         0.00             1.9      0.076   \n",
       "1            7.8              0.88         0.00             2.6      0.098   \n",
       "2            7.8              0.76         0.04             2.3      0.092   \n",
       "3           11.2              0.28         0.56             1.9      0.075   \n",
       "4            7.4              0.70         0.00             1.9      0.076   \n",
       "\n",
       "   free sulfur dioxide  total sulfur dioxide  density    pH  sulphates  \\\n",
       "0                 11.0                  34.0   0.9978  3.51       0.56   \n",
       "1                 25.0                  67.0   0.9968  3.20       0.68   \n",
       "2                 15.0                  54.0   0.9970  3.26       0.65   \n",
       "3                 17.0                  60.0   0.9980  3.16       0.58   \n",
       "4                 11.0                  34.0   0.9978  3.51       0.56   \n",
       "\n",
       "   alcohol quality  \n",
       "0      9.4     bad  \n",
       "1      9.8     bad  \n",
       "2      9.8     bad  \n",
       "3      9.8    good  \n",
       "4      9.4     bad  "
      ]
     },
     "execution_count": 2,
     "metadata": {},
     "output_type": "execute_result"
    }
   ],
   "source": [
    "import pandas as pd\n",
    "\n",
    "df = pd.read_csv('wine.csv')\n",
    "df.head()"
   ]
  },
  {
   "cell_type": "markdown",
   "id": "17adeef2-7d30-405c-9b03-7b483c001f2e",
   "metadata": {
    "jp-MarkdownHeadingCollapsed": true,
    "tags": []
   },
   "source": [
    "# Q3. Check for null values, identify categorical variables, and encode them."
   ]
  },
  {
   "cell_type": "code",
   "execution_count": 3,
   "id": "c982d01b-5014-42c2-91b5-5eb2ffd78fc1",
   "metadata": {
    "tags": []
   },
   "outputs": [
    {
     "data": {
      "text/plain": [
       "fixed acidity           0\n",
       "volatile acidity        0\n",
       "citric acid             0\n",
       "residual sugar          0\n",
       "chlorides               0\n",
       "free sulfur dioxide     0\n",
       "total sulfur dioxide    0\n",
       "density                 0\n",
       "pH                      0\n",
       "sulphates               0\n",
       "alcohol                 0\n",
       "quality                 0\n",
       "dtype: int64"
      ]
     },
     "execution_count": 3,
     "metadata": {},
     "output_type": "execute_result"
    }
   ],
   "source": [
    "df.isnull().sum()"
   ]
  },
  {
   "cell_type": "code",
   "execution_count": 6,
   "id": "ccbb2558-afb0-4492-bdba-376eb1319f02",
   "metadata": {
    "tags": []
   },
   "outputs": [
    {
     "data": {
      "text/plain": [
       "240"
      ]
     },
     "execution_count": 6,
     "metadata": {},
     "output_type": "execute_result"
    }
   ],
   "source": [
    "df.duplicated().sum()"
   ]
  },
  {
   "cell_type": "code",
   "execution_count": 7,
   "id": "6b240818-e72a-4602-9766-a866fb795bdb",
   "metadata": {
    "tags": []
   },
   "outputs": [
    {
     "data": {
      "text/plain": [
       "0"
      ]
     },
     "execution_count": 7,
     "metadata": {},
     "output_type": "execute_result"
    }
   ],
   "source": [
    "df.drop_duplicates(inplace=True , keep='first')\n",
    "df.duplicated().sum()"
   ]
  },
  {
   "cell_type": "code",
   "execution_count": 8,
   "id": "b3aea1c8-cc1f-4c2b-b4ba-41fdfcdcb67a",
   "metadata": {
    "tags": []
   },
   "outputs": [
    {
     "data": {
      "text/plain": [
       "array([0, 1])"
      ]
     },
     "execution_count": 8,
     "metadata": {},
     "output_type": "execute_result"
    }
   ],
   "source": [
    "from sklearn.preprocessing import LabelEncoder , MinMaxScaler , StandardScaler\n",
    "\n",
    "l_encoder = LabelEncoder()\n",
    "\n",
    "df['quality'] = l_encoder.fit_transform(df['quality'])\n",
    "df.quality.unique()"
   ]
  },
  {
   "cell_type": "markdown",
   "id": "394a03e5-a2da-4d75-8cb5-816e5300abdd",
   "metadata": {
    "jp-MarkdownHeadingCollapsed": true,
    "tags": []
   },
   "source": [
    "# Q4. Separate the features and target variables from the dataset."
   ]
  },
  {
   "cell_type": "code",
   "execution_count": 9,
   "id": "f87f6630-43eb-4b4a-a6d1-59eb6a70165f",
   "metadata": {
    "tags": []
   },
   "outputs": [],
   "source": [
    "X = df.drop('quality' , axis=1)\n",
    "y = df['quality']"
   ]
  },
  {
   "cell_type": "markdown",
   "id": "375c4694-34e0-409f-8637-33dff3ecb818",
   "metadata": {
    "jp-MarkdownHeadingCollapsed": true,
    "tags": []
   },
   "source": [
    "# Q5. Perform a train-test split, dividing the data into training, validation, and test datasets."
   ]
  },
  {
   "cell_type": "code",
   "execution_count": 11,
   "id": "6245a8fe-40b0-45bc-86aa-bace9440d050",
   "metadata": {
    "tags": []
   },
   "outputs": [],
   "source": [
    "from sklearn.model_selection import train_test_split\n",
    "\n",
    "X_train, X_temo, y_train, y_temp = train_test_split(X,y,test_size=0.2,random_state=42)\n",
    "\n",
    "X_val, X_test, y_val, y_test = train_test_split(X_temo , y_temp , test_size=0.3 , random_state=42)"
   ]
  },
  {
   "cell_type": "markdown",
   "id": "5d3a31ae-4e5d-4d22-8b97-2ea7d806185f",
   "metadata": {
    "jp-MarkdownHeadingCollapsed": true,
    "tags": []
   },
   "source": [
    "# Q6. Scale the dataset using an appropriate scaling technique."
   ]
  },
  {
   "cell_type": "code",
   "execution_count": 12,
   "id": "06650a58-1edc-4a90-b63f-e25cd9fdcff2",
   "metadata": {
    "tags": []
   },
   "outputs": [],
   "source": [
    "m_scaler = MinMaxScaler()\n",
    "\n",
    "X_TRAIN_SCAL = m_scaler.fit_transform(X_train)\n",
    "X_TEST_SCAL = m_scaler.transform(X_test)\n",
    "X_VAL_SCAL = m_scaler.transform(X_val)"
   ]
  },
  {
   "cell_type": "markdown",
   "id": "510b27d1-5632-43d7-ab3b-89a8e3ef274f",
   "metadata": {
    "jp-MarkdownHeadingCollapsed": true,
    "tags": []
   },
   "source": [
    "# Q7. Design and implement at least two hidden layers and an output layer for the binary categorical variables."
   ]
  },
  {
   "cell_type": "code",
   "execution_count": 15,
   "id": "ffe7382f-9546-4d8f-bf25-3f636cac48f1",
   "metadata": {
    "tags": []
   },
   "outputs": [],
   "source": [
    "LAYERS = [\n",
    "    tf.keras.layers.Dense(units=11 , input_dim=11 , activation='relu' , name='InputLayer'),\n",
    "    tf.keras.layers.Dense(units=64 , activation='relu' , name='HiddenLayer1'),\n",
    "    tf.keras.layers.Dense(units=32 , activation='relu' , name='HiddenLayes2'),\n",
    "    tf.keras.layers.Dense(units=1 , activation='sigmoid' , name='OutputLayer')\n",
    "]"
   ]
  },
  {
   "cell_type": "markdown",
   "id": "e6f18c50-b435-49bc-8a98-e06e07b67851",
   "metadata": {
    "jp-MarkdownHeadingCollapsed": true,
    "tags": []
   },
   "source": [
    "# Q8. Create a Sequential model in Keras and add the previously designed layers to it."
   ]
  },
  {
   "cell_type": "code",
   "execution_count": 16,
   "id": "d3a3769c-8c85-46e8-99a6-fb88e7d249f1",
   "metadata": {
    "tags": []
   },
   "outputs": [],
   "source": [
    "model = tf.keras.models.Sequential(LAYERS)"
   ]
  },
  {
   "cell_type": "markdown",
   "id": "9309fd0b-4245-45ef-8be1-6ea64487ccdb",
   "metadata": {
    "jp-MarkdownHeadingCollapsed": true,
    "tags": []
   },
   "source": [
    "# Q9. Print the summary of the model architecture."
   ]
  },
  {
   "cell_type": "code",
   "execution_count": 17,
   "id": "33143044-60a1-4977-9257-aa2408179ac2",
   "metadata": {
    "tags": []
   },
   "outputs": [
    {
     "name": "stdout",
     "output_type": "stream",
     "text": [
      "Model: \"sequential_1\"\n",
      "_________________________________________________________________\n",
      " Layer (type)                Output Shape              Param #   \n",
      "=================================================================\n",
      " InputLayer (Dense)          (None, 11)                132       \n",
      "                                                                 \n",
      " HiddenLayer1 (Dense)        (None, 64)                768       \n",
      "                                                                 \n",
      " HiddenLayes2 (Dense)        (None, 32)                2080      \n",
      "                                                                 \n",
      " OutputLayer (Dense)         (None, 1)                 33        \n",
      "                                                                 \n",
      "=================================================================\n",
      "Total params: 3013 (11.77 KB)\n",
      "Trainable params: 3013 (11.77 KB)\n",
      "Non-trainable params: 0 (0.00 Byte)\n",
      "_________________________________________________________________\n"
     ]
    }
   ],
   "source": [
    "model.summary()"
   ]
  },
  {
   "cell_type": "markdown",
   "id": "875a42a1-b136-4285-b33c-2afff4771ff6",
   "metadata": {
    "jp-MarkdownHeadingCollapsed": true,
    "tags": []
   },
   "source": [
    "# Q10. Set the loss function(‘binary_crossentropy’), optimizer, and include the accuracy metric in the model."
   ]
  },
  {
   "cell_type": "code",
   "execution_count": 19,
   "id": "798db354-6300-4824-ad9f-2de0adfae94f",
   "metadata": {
    "tags": []
   },
   "outputs": [],
   "source": [
    "loss = 'binary_crossentropy'\n",
    "optimizer = 'adam'\n",
    "metrics = ['accuracy']"
   ]
  },
  {
   "cell_type": "markdown",
   "id": "a4e4fdb7-93b0-4d80-a609-ac4e060d9560",
   "metadata": {
    "jp-MarkdownHeadingCollapsed": true,
    "tags": []
   },
   "source": [
    "# Q11. Compile the model with the specified loss function, optimizer, and metrics."
   ]
  },
  {
   "cell_type": "code",
   "execution_count": 20,
   "id": "807e91bb-1bb1-4ebc-ac00-10940ceb120d",
   "metadata": {
    "tags": []
   },
   "outputs": [],
   "source": [
    "model.compile(optimizer=optimizer , \n",
    "             loss=loss , \n",
    "             metrics=metrics)"
   ]
  },
  {
   "cell_type": "markdown",
   "id": "14973de5-449d-4234-994d-d71bbdd35d49",
   "metadata": {
    "jp-MarkdownHeadingCollapsed": true,
    "tags": []
   },
   "source": [
    "# Q13. Obtain the model's parameters (weights and biases)."
   ]
  },
  {
   "cell_type": "code",
   "execution_count": 26,
   "id": "029ec4c7-e331-4ebf-b1ed-e57ab6bcff57",
   "metadata": {
    "tags": []
   },
   "outputs": [],
   "source": [
    "weights = model.get_weights()"
   ]
  },
  {
   "cell_type": "markdown",
   "id": "ad7f82ba-687f-459e-9c3d-d1f50908f4c1",
   "metadata": {
    "jp-MarkdownHeadingCollapsed": true,
    "tags": []
   },
   "source": [
    "# Q14. Store the model's training history as a Pandas DataFrame."
   ]
  },
  {
   "cell_type": "code",
   "execution_count": 27,
   "id": "9271098f-c716-4874-b8e8-e8ce97588ac1",
   "metadata": {
    "tags": []
   },
   "outputs": [
    {
     "name": "stdout",
     "output_type": "stream",
     "text": [
      "Epoch 1/10\n",
      "34/34 [==============================] - 2s 15ms/step - loss: 0.6800 - accuracy: 0.5465 - val_loss: 0.6583 - val_accuracy: 0.6000\n",
      "Epoch 2/10\n",
      "34/34 [==============================] - 0s 4ms/step - loss: 0.6519 - accuracy: 0.6486 - val_loss: 0.6125 - val_accuracy: 0.7105\n",
      "Epoch 3/10\n",
      "34/34 [==============================] - 0s 3ms/step - loss: 0.6149 - accuracy: 0.7010 - val_loss: 0.5582 - val_accuracy: 0.7474\n",
      "Epoch 4/10\n",
      "34/34 [==============================] - 0s 3ms/step - loss: 0.5826 - accuracy: 0.7001 - val_loss: 0.5126 - val_accuracy: 0.7737\n",
      "Epoch 5/10\n",
      "34/34 [==============================] - 0s 4ms/step - loss: 0.5531 - accuracy: 0.7167 - val_loss: 0.4847 - val_accuracy: 0.7737\n",
      "Epoch 6/10\n",
      "34/34 [==============================] - 0s 3ms/step - loss: 0.5439 - accuracy: 0.7323 - val_loss: 0.4651 - val_accuracy: 0.8105\n",
      "Epoch 7/10\n",
      "34/34 [==============================] - 0s 3ms/step - loss: 0.5365 - accuracy: 0.7387 - val_loss: 0.4629 - val_accuracy: 0.8053\n",
      "Epoch 8/10\n",
      "34/34 [==============================] - 0s 4ms/step - loss: 0.5339 - accuracy: 0.7351 - val_loss: 0.4616 - val_accuracy: 0.8105\n",
      "Epoch 9/10\n",
      "34/34 [==============================] - 0s 4ms/step - loss: 0.5264 - accuracy: 0.7415 - val_loss: 0.4667 - val_accuracy: 0.7737\n",
      "Epoch 10/10\n",
      "34/34 [==============================] - 0s 6ms/step - loss: 0.5303 - accuracy: 0.7461 - val_loss: 0.4610 - val_accuracy: 0.8105\n"
     ]
    }
   ],
   "source": [
    "history = model.fit(X_TRAIN_SCAL , y_train , epochs=10 , batch_size=32 , validation_data=(X_VAL_SCAL , y_val))"
   ]
  },
  {
   "cell_type": "code",
   "execution_count": 28,
   "id": "a45d08a3-47b7-4eaf-8b47-731bd8ee065c",
   "metadata": {
    "tags": []
   },
   "outputs": [
    {
     "data": {
      "text/html": [
       "<div>\n",
       "<style scoped>\n",
       "    .dataframe tbody tr th:only-of-type {\n",
       "        vertical-align: middle;\n",
       "    }\n",
       "\n",
       "    .dataframe tbody tr th {\n",
       "        vertical-align: top;\n",
       "    }\n",
       "\n",
       "    .dataframe thead th {\n",
       "        text-align: right;\n",
       "    }\n",
       "</style>\n",
       "<table border=\"1\" class=\"dataframe\">\n",
       "  <thead>\n",
       "    <tr style=\"text-align: right;\">\n",
       "      <th></th>\n",
       "      <th>loss</th>\n",
       "      <th>accuracy</th>\n",
       "      <th>val_loss</th>\n",
       "      <th>val_accuracy</th>\n",
       "    </tr>\n",
       "  </thead>\n",
       "  <tbody>\n",
       "    <tr>\n",
       "      <th>0</th>\n",
       "      <td>0.680000</td>\n",
       "      <td>0.546458</td>\n",
       "      <td>0.658343</td>\n",
       "      <td>0.600000</td>\n",
       "    </tr>\n",
       "    <tr>\n",
       "      <th>1</th>\n",
       "      <td>0.651851</td>\n",
       "      <td>0.648574</td>\n",
       "      <td>0.612464</td>\n",
       "      <td>0.710526</td>\n",
       "    </tr>\n",
       "    <tr>\n",
       "      <th>2</th>\n",
       "      <td>0.614853</td>\n",
       "      <td>0.701012</td>\n",
       "      <td>0.558243</td>\n",
       "      <td>0.747368</td>\n",
       "    </tr>\n",
       "    <tr>\n",
       "      <th>3</th>\n",
       "      <td>0.582642</td>\n",
       "      <td>0.700092</td>\n",
       "      <td>0.512552</td>\n",
       "      <td>0.773684</td>\n",
       "    </tr>\n",
       "    <tr>\n",
       "      <th>4</th>\n",
       "      <td>0.553119</td>\n",
       "      <td>0.716651</td>\n",
       "      <td>0.484707</td>\n",
       "      <td>0.773684</td>\n",
       "    </tr>\n",
       "  </tbody>\n",
       "</table>\n",
       "</div>"
      ],
      "text/plain": [
       "       loss  accuracy  val_loss  val_accuracy\n",
       "0  0.680000  0.546458  0.658343      0.600000\n",
       "1  0.651851  0.648574  0.612464      0.710526\n",
       "2  0.614853  0.701012  0.558243      0.747368\n",
       "3  0.582642  0.700092  0.512552      0.773684\n",
       "4  0.553119  0.716651  0.484707      0.773684"
      ]
     },
     "execution_count": 28,
     "metadata": {},
     "output_type": "execute_result"
    }
   ],
   "source": [
    "history_df = pd.DataFrame(history.history)\n",
    "history_df.head()"
   ]
  },
  {
   "cell_type": "markdown",
   "id": "8856822a-d368-407f-83a5-fbb21ca9aa33",
   "metadata": {},
   "source": [
    "# Q15. Plot the training history (e.g., accuracy and loss) using suitable visualization techniques."
   ]
  },
  {
   "cell_type": "code",
   "execution_count": 40,
   "id": "40146743-acd9-448c-902d-42e9a3af35b0",
   "metadata": {
    "tags": []
   },
   "outputs": [
    {
     "data": {
      "image/png": "[encoded data removed]",
      "text/plain": [
       "<Figure size 1500x600 with 2 Axes>"
      ]
     },
     "metadata": {},
     "output_type": "display_data"
    }
   ],
   "source": [
    "plt.figure(figsize=(15,6))\n",
    "\n",
    "plt.subplot(1, 2, 1)\n",
    "plt.plot(history.history['accuracy'])\n",
    "plt.plot(history.history['val_accuracy'])\n",
    "plt.title('Model Accuracy')\n",
    "plt.xlabel('Epoch')\n",
    "plt.ylabel('Accuracy')\n",
    "plt.legend(['Train', 'Validation'], loc='upper left')\n",
    "\n",
    "# Plot training & validation loss values\n",
    "plt.subplot(1, 2, 2)\n",
    "plt.plot(history.history['loss'])\n",
    "plt.plot(history.history['val_loss'])\n",
    "plt.title('Model Loss')\n",
    "plt.xlabel('Epoch')\n",
    "plt.ylabel('Loss')\n",
    "plt.legend(['Train', 'Validation'], loc='upper left')\n",
    "\n",
    "plt.tight_layout()\n",
    "plt.show()"
   ]
  },
  {
   "cell_type": "markdown",
   "id": "4f7f9979-3b6d-4481-aa08-36cfff4343ae",
   "metadata": {},
   "source": [
    "# Q16. Evaluate the model's performance using the test dataset and report relevant metrics."
   ]
  },
  {
   "cell_type": "code",
   "execution_count": 56,
   "id": "1967f835-da96-4d58-a3ae-8b9710b876c7",
   "metadata": {
    "tags": []
   },
   "outputs": [],
   "source": [
    "from sklearn.metrics import r2_score\n",
    "import numpy as np"
   ]
  },
  {
   "cell_type": "code",
   "execution_count": 57,
   "id": "6abd9525-f82b-4d20-9f0d-a1887b0488ce",
   "metadata": {
    "tags": []
   },
   "outputs": [
    {
     "name": "stdout",
     "output_type": "stream",
     "text": [
      "3/3 [==============================] - 0s 4ms/step - loss: 0.4801 - accuracy: 0.7317\n",
      "3/3 [==============================] - 0s 4ms/step\n",
      "-1.0746637344324617\n"
     ]
    }
   ],
   "source": [
    "test_loss, test_accuracy = model.evaluate(X_TEST_SCAL, y_test)\n",
    "\n",
    "# Make predictions\n",
    "y_pred = model.predict(X_TEST_SCAL)\n",
    "\n",
    "print(r2_score(y_pred , y_test))"
   ]
  },
  {
   "cell_type": "code",
   "execution_count": null,
   "id": "f6e06c57-5b95-4a53-9212-c36a52321b31",
   "metadata": {},
   "outputs": [],
   "source": []
  }
 ],
 "metadata": {
  "kernelspec": {
   "display_name": "Python 3 (ipykernel)",
   "language": "python",
   "name": "python3"
  },
  "language_info": {
   "codemirror_mode": {
    "name": "ipython",
    "version": 3
   },
   "file_extension": ".py",
   "mimetype": "text/x-python",
   "name": "python",
   "nbconvert_exporter": "python",
   "pygments_lexer": "ipython3",
   "version": "3.11.5"
  }
 },
 "nbformat": 4,
 "nbformat_minor": 5
}
